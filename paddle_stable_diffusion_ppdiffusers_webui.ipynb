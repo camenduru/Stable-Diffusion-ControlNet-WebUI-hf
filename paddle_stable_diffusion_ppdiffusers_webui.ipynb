{
  "nbformat": 4,
  "nbformat_minor": 0,
  "metadata": {
    "colab": {
      "provenance": [],
      "gpuType": "T4"
    },
    "kernelspec": {
      "name": "python3",
      "display_name": "Python 3"
    },
    "language_info": {
      "name": "python"
    },
    "accelerator": "GPU",
    "gpuClass": "standard"
  },
  "cells": [
    {
     "cell_type": "markdown",
     "metadata": {
      "id": "view-in-github"
     },
     "source": [
      "[![Open In Colab](https://colab.research.google.com/assets/colab-badge.svg)](https://colab.research.google.com/github/camenduru/Stable-Diffusion-ControlNet-WebUI-hf/blob/dev/paddle_stable_diffusion_ppdiffusers_webui.ipynb)"
     ]
    },
    {
      "cell_type": "code",
      "execution_count": null,
      "metadata": {
        "id": "w2advMcvTxzf"
      },
      "outputs": [],
      "source": [
        "%cd /content\n",
        "!git clone -b dev https://github.com/camenduru/Stable-Diffusion-ControlNet-WebUI-hf\n",
        "%cd /content/Stable-Diffusion-ControlNet-WebUI-hf\n",
        "!pip install -r requirements.txt\n",
        "\n",
        "!mkdir textual_inversion lora\n",
        "!wget https://civitai.com/api/download/models/25148 -O /content/Stable-Diffusion-ControlNet-WebUI-hf/textual_inversion/koh_daisyridley.pt\n",
        "!wget https://civitai.com/api/download/models/16576 -O /content/Stable-Diffusion-ControlNet-WebUI-hf/lora/epi_noiseoffset2.safetensors\n",
        "\n",
        "!python app.py"
      ]
    },
    {
      "cell_type": "code",
      "source": [
        "!git reset --hard\n",
        "!git pull"
      ],
      "metadata": {
        "id": "761XnEKwUDpQ"
      },
      "execution_count": null,
      "outputs": []
    },
    {
      "cell_type": "code",
      "source": [
        "!python app.py"
      ],
      "metadata": {
        "colab": {
          "base_uri": "https://localhost:8080/"
        },
        "id": "t4YeVMG2UhtK",
        "outputId": "2f6d954b-9bf0-4bfd-e249-92c25b40c82a"
      },
      "execution_count": null,
      "outputs": []
    }
  ]
}